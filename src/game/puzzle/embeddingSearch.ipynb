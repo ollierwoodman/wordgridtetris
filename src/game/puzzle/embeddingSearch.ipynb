{
 "cells": [
  {
   "cell_type": "markdown",
   "id": "fa78de7a",
   "metadata": {},
   "source": [
    "# Word Embedding Search\n",
    "\n",
    "This notebook loads 7-letter words from our word list and creates embeddings to find semantically similar words.\n",
    "\n",
    "## Setup\n",
    "First, we'll install required packages if they're not already installed.\n"
   ]
  },
  {
   "cell_type": "code",
   "execution_count": 7,
   "id": "16f479d0",
   "metadata": {},
   "outputs": [],
   "source": [
    "import sentence_transformers\n",
    "import sklearn\n",
    "import numpy\n",
    "import json\n"
   ]
  },
  {
   "cell_type": "markdown",
   "id": "f2468138",
   "metadata": {},
   "source": [
    "## 1. Load Word List\n",
    "Load the words from our common-7-letter-words.txt file"
   ]
  },
  {
   "cell_type": "code",
   "execution_count": 27,
   "id": "71ec4670",
   "metadata": {},
   "outputs": [
    {
     "name": "stdout",
     "output_type": "stream",
     "text": [
      "Loaded 29874 words.\n"
     ]
    }
   ],
   "source": [
    "with open('wordLists/6letters.json', 'r') as f:\n",
    "    words = json.load(f)\n",
    "\n",
    "print(f\"Loaded {len(words)} words.\")"
   ]
  },
  {
   "cell_type": "markdown",
   "id": "095950ef",
   "metadata": {},
   "source": [
    "## 2. Generate Word Embeddings\n",
    "Use sentence-transformers to generate embeddings for all words\n"
   ]
  },
  {
   "cell_type": "code",
   "execution_count": 28,
   "id": "257dba6b",
   "metadata": {},
   "outputs": [
    {
     "name": "stdout",
     "output_type": "stream",
     "text": [
      "Generating embeddings...\n"
     ]
    },
    {
     "name": "stderr",
     "output_type": "stream",
     "text": [
      "Batches: 100%|██████████| 934/934 [00:15<00:00, 61.79it/s]\n"
     ]
    },
    {
     "name": "stdout",
     "output_type": "stream",
     "text": [
      "Done!\n"
     ]
    }
   ],
   "source": [
    "from sentence_transformers import SentenceTransformer\n",
    "import numpy as np\n",
    "\n",
    "# Initialize the model\n",
    "model = SentenceTransformer('all-MiniLM-L6-v2')\n",
    "\n",
    "# Generate embeddings for all words\n",
    "print(\"Generating embeddings...\")\n",
    "word_embeddings = model.encode(words, show_progress_bar=True)\n",
    "print(\"Done!\")\n"
   ]
  },
  {
   "cell_type": "markdown",
   "id": "984a7667",
   "metadata": {},
   "source": [
    "## 3. Query Function\n",
    "Create a function to find the most similar words\n"
   ]
  },
  {
   "cell_type": "code",
   "execution_count": 18,
   "id": "3c3ca661",
   "metadata": {},
   "outputs": [],
   "source": [
    "\n",
    "from sklearn.metrics.pairwise import cosine_similarity\n",
    "\n",
    "def query_top_k(query, k=5):\n",
    "    \"\"\"Find the k most similar words to the query.\n",
    "    \n",
    "    Args:\n",
    "        query (str): The word or phrase to find similar words to\n",
    "        k (int): Number of similar words to return\n",
    "        \n",
    "    Returns:\n",
    "        list: Top k words and their similarity scores\n",
    "    \"\"\"\n",
    "    query_emb = model.encode([query])\n",
    "    similarities = cosine_similarity(query_emb, word_embeddings)[0]\n",
    "    top_k_idx = np.argsort(similarities)[::-1][:k]\n",
    "    return [(words[i], similarities[i]) for i in top_k_idx]\n",
    "\n",
    "def query_by_threshold(query, threshold=0.5):\n",
    "    \"\"\"Find all words with similarity score greater than threshold.\n",
    "    \n",
    "    Args:\n",
    "        query (str): The word or phrase to find similar words to\n",
    "        threshold (float): Minimum similarity score to return\n",
    "        \n",
    "    Returns:\n",
    "        list: All words with similarity score greater than threshold\n",
    "    \"\"\"\n",
    "    query_emb = model.encode([query])\n",
    "    similarities = cosine_similarity(query_emb, word_embeddings)[0]\n",
    "    # filter out words with similarity score less than threshold\n",
    "    filtered_words = [word for word, similarity in zip(words, similarities) if similarity > threshold]\n",
    "    # sort by similarity score\n",
    "    sorted_words = sorted(filtered_words, key=lambda x: x[1], reverse=True)\n",
    "    return sorted_words"
   ]
  },
  {
   "cell_type": "markdown",
   "id": "4c16b71a",
   "metadata": {},
   "source": [
    "## 4. Performing queries\n",
    "Try finding similar words with different queries\n"
   ]
  },
  {
   "cell_type": "code",
   "execution_count": 25,
   "id": "129909d5",
   "metadata": {},
   "outputs": [
    {
     "name": "stdout",
     "output_type": "stream",
     "text": [
      "[\n",
      "    \"buffalo\",\n",
      "    \"outdoor\",\n",
      "    \"outside\",\n",
      "    \"sunland\",\n",
      "    \"stadium\",\n",
      "    \"station\",\n",
      "    \"utopian\",\n",
      "    \"brewery\",\n",
      "    \"freeway\",\n",
      "    \"upstate\",\n",
      "    \"company\",\n",
      "    \"concord\",\n",
      "    \"cottage\",\n",
      "    \"council\",\n",
      "    \"country\",\n",
      "    \"holland\",\n",
      "    \"tourist\",\n",
      "    \"indoors\",\n",
      "    \"america\",\n",
      "    \"airport\",\n",
      "    \"highway\",\n",
      "    \"kitchen\",\n",
      "    \"lincoln\",\n",
      "    \"village\",\n",
      "    \"bedroom\",\n",
      "    \"central\",\n",
      "    \"nearest\",\n",
      "    \"seaside\",\n",
      "    \"address\",\n",
      "    \"academy\",\n",
      "    \"badland\",\n",
      "    \"bangkok\",\n",
      "    \"capital\",\n",
      "    \"capitol\",\n",
      "    \"eastern\",\n",
      "    \"garages\",\n",
      "    \"harbour\",\n",
      "    \"madison\",\n",
      "    \"manager\"\n",
      "]\n"
     ]
    }
   ],
   "source": [
    "# Example queries\n",
    "query = \"city\"\n",
    "threshold = 0.4\n",
    "\n",
    "results = query_by_threshold(query, threshold=threshold)\n",
    "\n",
    "# output as a json list\n",
    "print(json.dumps(results, indent=4))\n"
   ]
  }
 ],
 "metadata": {
  "kernelspec": {
   "display_name": "Python 3",
   "language": "python",
   "name": "python3"
  },
  "language_info": {
   "codemirror_mode": {
    "name": "ipython",
    "version": 3
   },
   "file_extension": ".py",
   "mimetype": "text/x-python",
   "name": "python",
   "nbconvert_exporter": "python",
   "pygments_lexer": "ipython3",
   "version": "3.11.4"
  }
 },
 "nbformat": 4,
 "nbformat_minor": 5
}
